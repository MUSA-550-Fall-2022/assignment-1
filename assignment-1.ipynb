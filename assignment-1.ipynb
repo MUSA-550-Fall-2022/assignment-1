{
 "cells": [
  {
   "cell_type": "markdown",
   "id": "b750eca1",
   "metadata": {},
   "source": [
    "# Assignment #1: Philadelphia ZHVI over time\n",
    "\n",
    "- Name: **Your name here**\n",
    "- Github username: **Your username**"
   ]
  },
  {
   "cell_type": "markdown",
   "id": "d5695c3c",
   "metadata": {},
   "source": [
    "## Instructions\n",
    "\n",
    "Find the Philadelphia ZIP code with the largest average annual ZHVI value, for each year in the data set. The Zillow data is available in this repository at [data/Zip_zhvi_uc_sfrcondo_tier_0.33_0.67_sm_sa_month.csv](data/Zip_zhvi_uc_sfrcondo_tier_0.33_0.67_sm_sa_month.csv).\n",
    "\n",
    "The Jupyter notebook should use pandas to load the data and analyze it. The following steps should be followed:\n",
    "\n",
    "- Load the ZHVI data for each ZIP code, selecting only Philadelphia ZIP codes.\n",
    "- Calculate the annual average ZHVI for each ZIP code in Philadelphia and each year.\n",
    "- Identify the ZIP code with the maximum value for each year.\n",
    "\n",
    "The final result should be a dataframe with a row for each year and the corresponding ZIP code that has the maximum ZHVI value in that year."
   ]
  },
  {
   "cell_type": "markdown",
   "id": "52649e67",
   "metadata": {},
   "source": [
    "**Important**: Your notebooks should be a polished finished product. For example:\n",
    "\n",
    "- Please remove any extra or unneccesary code.\n",
    "- Please try to use markdown cells with section headers to mark different sections of the analysis."
   ]
  },
  {
   "cell_type": "code",
   "execution_count": null,
   "id": "a20ce411",
   "metadata": {},
   "outputs": [],
   "source": []
  }
 ],
 "metadata": {
  "kernelspec": {
   "display_name": "Python 3 (ipykernel)",
   "language": "python",
   "name": "python3"
  },
  "language_info": {
   "codemirror_mode": {
    "name": "ipython",
    "version": 3
   },
   "file_extension": ".py",
   "mimetype": "text/x-python",
   "name": "python",
   "nbconvert_exporter": "python",
   "pygments_lexer": "ipython3",
   "version": "3.9.13"
  }
 },
 "nbformat": 4,
 "nbformat_minor": 5
}
