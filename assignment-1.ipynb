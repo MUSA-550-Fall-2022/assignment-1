{
 "cells": [
  {
   "cell_type": "markdown",
   "id": "b750eca1",
   "metadata": {},
   "source": [
    "# Assignment #1: Philadelphia ZHVI over time\n",
    "\n",
    "- Name: **Your name here**\n",
    "- Github username: **Your username**"
   ]
  },
  {
   "cell_type": "markdown",
   "id": "d5695c3c",
   "metadata": {},
   "source": [
    "## Instructions\n",
    "\n",
    "Find the Philadelphia ZIP code with the largest average annual ZHVI value, for each year in the data set. The Zillow data is available in this repository at [data/Zip_zhvi_uc_sfrcondo_tier_0.33_0.67_sm_sa_month.csv](data/Zip_zhvi_uc_sfrcondo_tier_0.33_0.67_sm_sa_month.csv).\n",
    "\n",
    "The Jupyter notebook should use pandas to load the data and analyze it. The following steps should be followed:\n",
    "\n",
    "- Load the ZHVI data for each ZIP code, selecting only Philadelphia ZIP codes.\n",
    "- Calculate the annual average ZHVI for each ZIP code in Philadelphia and each year.\n",
    "- Identify the ZIP code with the maximum value for each year.\n",
    "\n",
    "The final result should be a dataframe with a row for each year and the corresponding ZIP code that has the maximum ZHVI value in that year."
   ]
  },
  {
   "cell_type": "markdown",
   "id": "52649e67",
   "metadata": {},
   "source": [
    "**Important**: Your notebooks should be a polished finished product. For example:\n",
    "\n",
    "- Please remove any extra or unneccesary code.\n",
    "- Please try to use markdown cells with section headers to mark different sections of the analysis."
   ]
  },
  {
   "cell_type": "code",
   "execution_count": 58,
   "id": "d040a826",
   "metadata": {},
   "outputs": [],
   "source": [
    "##import packages\n",
    "import pandas as pd"
   ]
  },
  {
   "cell_type": "code",
   "execution_count": 59,
   "id": "a20ce411",
   "metadata": {},
   "outputs": [],
   "source": [
    "##import data\n",
    "df= pd.read_csv(\"data/Zip_zhvi_uc_sfrcondo_tier_0.33_0.67_sm_sa_month.csv\")"
   ]
  },
  {
   "cell_type": "code",
   "execution_count": 60,
   "id": "dcea9023",
   "metadata": {},
   "outputs": [],
   "source": [
    "##filter Philadelphia data\n",
    "df_PHI=df.loc[(df['State']=='PA' )& (df['City']=='Philadelphia')]\n",
    "#df_PHI.head()"
   ]
  },
  {
   "cell_type": "code",
   "execution_count": 61,
   "id": "d7ffdb83",
   "metadata": {},
   "outputs": [],
   "source": [
    "##Trimming data frame\n",
    "df_PHI_1=df_PHI.loc[:,['RegionName']]\n",
    "df_PHI_2=df_PHI.loc[:,'2000-01-31':]\n",
    "df_PHI_final=pd.concat([df_PHI_1,df_PHI_2],axis=1)"
   ]
  },
  {
   "cell_type": "code",
   "execution_count": 62,
   "id": "b1528465",
   "metadata": {},
   "outputs": [],
   "source": [
    "##Transform long to wide\n",
    "ZHVI = pd.melt(\n",
    "    df_PHI_final, \n",
    "    id_vars=[\"RegionName\"], \n",
    "    value_name=\"ZHVI\", \n",
    "    var_name=\"Date\"\n",
    ")\n",
    "#ZHVI.head()"
   ]
  },
  {
   "cell_type": "code",
   "execution_count": 63,
   "id": "a5bbc8cb",
   "metadata": {},
   "outputs": [],
   "source": [
    "##Convert datatime object and obtain 'Year'\n",
    "ZHVI[\"Date\"]= pd.to_datetime(ZHVI[\"Date\"])\n",
    "ZHVI[\"Year\"]=ZHVI[\"Date\"].dt.year\n"
   ]
  },
  {
   "cell_type": "code",
   "execution_count": 64,
   "id": "727c3454",
   "metadata": {},
   "outputs": [],
   "source": [
    "##Obtain annual ZHVI\n",
    "annual_ZHVI=ZHVI.groupby(['RegionName', 'Year'])['ZHVI'].mean() \n",
    "annual_ZHVI=annual_ZHVI.reset_index()\n",
    "#annual_ZHVI.head(n=50)"
   ]
  },
  {
   "cell_type": "code",
   "execution_count": 65,
   "id": "38dbdae3",
   "metadata": {},
   "outputs": [
    {
     "name": "stdout",
     "output_type": "stream",
     "text": [
      "Empty DataFrame\n",
      "Columns: []\n",
      "Index: []\n"
     ]
    }
   ],
   "source": [
    "##ZIP code with maximum ZHVI each year\n",
    "df_final=pd.DataFrame()\n",
    "print(df_final)\n",
    "for year in annual_ZHVI[\"Year\"].unique():\n",
    "    df=annual_ZHVI.loc[annual_ZHVI['Year']==year]\n",
    "    df1=df.loc[df[\"ZHVI\"]==df.ZHVI.max()] \n",
    "    #print(df1)\n",
    "    df_final=pd.concat([df_final,df1],ignore_index=True)"
   ]
  },
  {
   "cell_type": "code",
   "execution_count": 66,
   "id": "b1d737f3",
   "metadata": {},
   "outputs": [],
   "source": [
    "##Final result  \n",
    "\n",
    "\n",
    "\n",
    "df_final.rename(columns ={'RegionName':'ZIP_Code'},inplace=True) #rename column\n",
    "column_titles=['Year','ZIP_Code','ZHVI']\n",
    "df_final=df_final.reindex(columns=column_titles) #switch columns\n",
    "#df_final=df_final.round(2) #round numbers\n"
   ]
  },
  {
   "cell_type": "code",
   "execution_count": 67,
   "id": "63c01f77",
   "metadata": {},
   "outputs": [
    {
     "data": {
      "text/html": [
       "<style type=\"text/css\">\n",
       "#T_0947c caption {\n",
       "  color: red;\n",
       "  font-size: 15px;\n",
       "  font-style: italic;\n",
       "  font-weight: bold;\n",
       "  text-align: center;\n",
       "}\n",
       "</style>\n",
       "<table id=\"T_0947c\">\n",
       "  <caption>ZIP Codes with the Maximum Annual Average ZHVI Values from 2000 to 2022</caption>\n",
       "  <thead>\n",
       "    <tr>\n",
       "      <th class=\"blank level0\" >&nbsp;</th>\n",
       "      <th id=\"T_0947c_level0_col0\" class=\"col_heading level0 col0\" >Year</th>\n",
       "      <th id=\"T_0947c_level0_col1\" class=\"col_heading level0 col1\" >ZIP_Code</th>\n",
       "      <th id=\"T_0947c_level0_col2\" class=\"col_heading level0 col2\" >ZHVI</th>\n",
       "    </tr>\n",
       "  </thead>\n",
       "  <tbody>\n",
       "    <tr>\n",
       "      <th id=\"T_0947c_level0_row0\" class=\"row_heading level0 row0\" >0</th>\n",
       "      <td id=\"T_0947c_row0_col0\" class=\"data row0 col0\" >2000</td>\n",
       "      <td id=\"T_0947c_row0_col1\" class=\"data row0 col1\" >19118</td>\n",
       "      <td id=\"T_0947c_row0_col2\" class=\"data row0 col2\" >260641.000000</td>\n",
       "    </tr>\n",
       "    <tr>\n",
       "      <th id=\"T_0947c_level0_row1\" class=\"row_heading level0 row1\" >1</th>\n",
       "      <td id=\"T_0947c_row1_col0\" class=\"data row1 col0\" >2001</td>\n",
       "      <td id=\"T_0947c_row1_col1\" class=\"data row1 col1\" >19118</td>\n",
       "      <td id=\"T_0947c_row1_col2\" class=\"data row1 col2\" >290717.416667</td>\n",
       "    </tr>\n",
       "    <tr>\n",
       "      <th id=\"T_0947c_level0_row2\" class=\"row_heading level0 row2\" >2</th>\n",
       "      <td id=\"T_0947c_row2_col0\" class=\"data row2 col0\" >2002</td>\n",
       "      <td id=\"T_0947c_row2_col1\" class=\"data row2 col1\" >19118</td>\n",
       "      <td id=\"T_0947c_row2_col2\" class=\"data row2 col2\" >323259.250000</td>\n",
       "    </tr>\n",
       "    <tr>\n",
       "      <th id=\"T_0947c_level0_row3\" class=\"row_heading level0 row3\" >3</th>\n",
       "      <td id=\"T_0947c_row3_col0\" class=\"data row3 col0\" >2003</td>\n",
       "      <td id=\"T_0947c_row3_col1\" class=\"data row3 col1\" >19118</td>\n",
       "      <td id=\"T_0947c_row3_col2\" class=\"data row3 col2\" >371517.916667</td>\n",
       "    </tr>\n",
       "    <tr>\n",
       "      <th id=\"T_0947c_level0_row4\" class=\"row_heading level0 row4\" >4</th>\n",
       "      <td id=\"T_0947c_row4_col0\" class=\"data row4 col0\" >2004</td>\n",
       "      <td id=\"T_0947c_row4_col1\" class=\"data row4 col1\" >19118</td>\n",
       "      <td id=\"T_0947c_row4_col2\" class=\"data row4 col2\" >423675.916667</td>\n",
       "    </tr>\n",
       "    <tr>\n",
       "      <th id=\"T_0947c_level0_row5\" class=\"row_heading level0 row5\" >5</th>\n",
       "      <td id=\"T_0947c_row5_col0\" class=\"data row5 col0\" >2005</td>\n",
       "      <td id=\"T_0947c_row5_col1\" class=\"data row5 col1\" >19118</td>\n",
       "      <td id=\"T_0947c_row5_col2\" class=\"data row5 col2\" >486571.500000</td>\n",
       "    </tr>\n",
       "    <tr>\n",
       "      <th id=\"T_0947c_level0_row6\" class=\"row_heading level0 row6\" >6</th>\n",
       "      <td id=\"T_0947c_row6_col0\" class=\"data row6 col0\" >2006</td>\n",
       "      <td id=\"T_0947c_row6_col1\" class=\"data row6 col1\" >19118</td>\n",
       "      <td id=\"T_0947c_row6_col2\" class=\"data row6 col2\" >531186.250000</td>\n",
       "    </tr>\n",
       "    <tr>\n",
       "      <th id=\"T_0947c_level0_row7\" class=\"row_heading level0 row7\" >7</th>\n",
       "      <td id=\"T_0947c_row7_col0\" class=\"data row7 col0\" >2007</td>\n",
       "      <td id=\"T_0947c_row7_col1\" class=\"data row7 col1\" >19118</td>\n",
       "      <td id=\"T_0947c_row7_col2\" class=\"data row7 col2\" >547926.500000</td>\n",
       "    </tr>\n",
       "    <tr>\n",
       "      <th id=\"T_0947c_level0_row8\" class=\"row_heading level0 row8\" >8</th>\n",
       "      <td id=\"T_0947c_row8_col0\" class=\"data row8 col0\" >2008</td>\n",
       "      <td id=\"T_0947c_row8_col1\" class=\"data row8 col1\" >19118</td>\n",
       "      <td id=\"T_0947c_row8_col2\" class=\"data row8 col2\" >533627.250000</td>\n",
       "    </tr>\n",
       "    <tr>\n",
       "      <th id=\"T_0947c_level0_row9\" class=\"row_heading level0 row9\" >9</th>\n",
       "      <td id=\"T_0947c_row9_col0\" class=\"data row9 col0\" >2009</td>\n",
       "      <td id=\"T_0947c_row9_col1\" class=\"data row9 col1\" >19118</td>\n",
       "      <td id=\"T_0947c_row9_col2\" class=\"data row9 col2\" >518370.583333</td>\n",
       "    </tr>\n",
       "    <tr>\n",
       "      <th id=\"T_0947c_level0_row10\" class=\"row_heading level0 row10\" >10</th>\n",
       "      <td id=\"T_0947c_row10_col0\" class=\"data row10 col0\" >2010</td>\n",
       "      <td id=\"T_0947c_row10_col1\" class=\"data row10 col1\" >19118</td>\n",
       "      <td id=\"T_0947c_row10_col2\" class=\"data row10 col2\" >507576.166667</td>\n",
       "    </tr>\n",
       "    <tr>\n",
       "      <th id=\"T_0947c_level0_row11\" class=\"row_heading level0 row11\" >11</th>\n",
       "      <td id=\"T_0947c_row11_col0\" class=\"data row11 col0\" >2011</td>\n",
       "      <td id=\"T_0947c_row11_col1\" class=\"data row11 col1\" >19118</td>\n",
       "      <td id=\"T_0947c_row11_col2\" class=\"data row11 col2\" >478939.166667</td>\n",
       "    </tr>\n",
       "    <tr>\n",
       "      <th id=\"T_0947c_level0_row12\" class=\"row_heading level0 row12\" >12</th>\n",
       "      <td id=\"T_0947c_row12_col0\" class=\"data row12 col0\" >2012</td>\n",
       "      <td id=\"T_0947c_row12_col1\" class=\"data row12 col1\" >19118</td>\n",
       "      <td id=\"T_0947c_row12_col2\" class=\"data row12 col2\" >466824.083333</td>\n",
       "    </tr>\n",
       "    <tr>\n",
       "      <th id=\"T_0947c_level0_row13\" class=\"row_heading level0 row13\" >13</th>\n",
       "      <td id=\"T_0947c_row13_col0\" class=\"data row13 col0\" >2013</td>\n",
       "      <td id=\"T_0947c_row13_col1\" class=\"data row13 col1\" >19118</td>\n",
       "      <td id=\"T_0947c_row13_col2\" class=\"data row13 col2\" >475915.000000</td>\n",
       "    </tr>\n",
       "    <tr>\n",
       "      <th id=\"T_0947c_level0_row14\" class=\"row_heading level0 row14\" >14</th>\n",
       "      <td id=\"T_0947c_row14_col0\" class=\"data row14 col0\" >2014</td>\n",
       "      <td id=\"T_0947c_row14_col1\" class=\"data row14 col1\" >19118</td>\n",
       "      <td id=\"T_0947c_row14_col2\" class=\"data row14 col2\" >492153.750000</td>\n",
       "    </tr>\n",
       "    <tr>\n",
       "      <th id=\"T_0947c_level0_row15\" class=\"row_heading level0 row15\" >15</th>\n",
       "      <td id=\"T_0947c_row15_col0\" class=\"data row15 col0\" >2015</td>\n",
       "      <td id=\"T_0947c_row15_col1\" class=\"data row15 col1\" >19118</td>\n",
       "      <td id=\"T_0947c_row15_col2\" class=\"data row15 col2\" >514604.000000</td>\n",
       "    </tr>\n",
       "    <tr>\n",
       "      <th id=\"T_0947c_level0_row16\" class=\"row_heading level0 row16\" >16</th>\n",
       "      <td id=\"T_0947c_row16_col0\" class=\"data row16 col0\" >2016</td>\n",
       "      <td id=\"T_0947c_row16_col1\" class=\"data row16 col1\" >19118</td>\n",
       "      <td id=\"T_0947c_row16_col2\" class=\"data row16 col2\" >526588.500000</td>\n",
       "    </tr>\n",
       "    <tr>\n",
       "      <th id=\"T_0947c_level0_row17\" class=\"row_heading level0 row17\" >17</th>\n",
       "      <td id=\"T_0947c_row17_col0\" class=\"data row17 col0\" >2017</td>\n",
       "      <td id=\"T_0947c_row17_col1\" class=\"data row17 col1\" >19118</td>\n",
       "      <td id=\"T_0947c_row17_col2\" class=\"data row17 col2\" >548913.916667</td>\n",
       "    </tr>\n",
       "    <tr>\n",
       "      <th id=\"T_0947c_level0_row18\" class=\"row_heading level0 row18\" >18</th>\n",
       "      <td id=\"T_0947c_row18_col0\" class=\"data row18 col0\" >2018</td>\n",
       "      <td id=\"T_0947c_row18_col1\" class=\"data row18 col1\" >19118</td>\n",
       "      <td id=\"T_0947c_row18_col2\" class=\"data row18 col2\" >578899.250000</td>\n",
       "    </tr>\n",
       "    <tr>\n",
       "      <th id=\"T_0947c_level0_row19\" class=\"row_heading level0 row19\" >19</th>\n",
       "      <td id=\"T_0947c_row19_col0\" class=\"data row19 col0\" >2019</td>\n",
       "      <td id=\"T_0947c_row19_col1\" class=\"data row19 col1\" >19118</td>\n",
       "      <td id=\"T_0947c_row19_col2\" class=\"data row19 col2\" >608160.000000</td>\n",
       "    </tr>\n",
       "    <tr>\n",
       "      <th id=\"T_0947c_level0_row20\" class=\"row_heading level0 row20\" >20</th>\n",
       "      <td id=\"T_0947c_row20_col0\" class=\"data row20 col0\" >2020</td>\n",
       "      <td id=\"T_0947c_row20_col1\" class=\"data row20 col1\" >19118</td>\n",
       "      <td id=\"T_0947c_row20_col2\" class=\"data row20 col2\" >627305.500000</td>\n",
       "    </tr>\n",
       "    <tr>\n",
       "      <th id=\"T_0947c_level0_row21\" class=\"row_heading level0 row21\" >21</th>\n",
       "      <td id=\"T_0947c_row21_col0\" class=\"data row21 col0\" >2021</td>\n",
       "      <td id=\"T_0947c_row21_col1\" class=\"data row21 col1\" >19118</td>\n",
       "      <td id=\"T_0947c_row21_col2\" class=\"data row21 col2\" >694564.000000</td>\n",
       "    </tr>\n",
       "    <tr>\n",
       "      <th id=\"T_0947c_level0_row22\" class=\"row_heading level0 row22\" >22</th>\n",
       "      <td id=\"T_0947c_row22_col0\" class=\"data row22 col0\" >2022</td>\n",
       "      <td id=\"T_0947c_row22_col1\" class=\"data row22 col1\" >19118</td>\n",
       "      <td id=\"T_0947c_row22_col2\" class=\"data row22 col2\" >731276.857143</td>\n",
       "    </tr>\n",
       "  </tbody>\n",
       "</table>\n"
      ],
      "text/plain": [
       "<pandas.io.formats.style.Styler at 0x1fdedd63d90>"
      ]
     },
     "execution_count": 67,
     "metadata": {},
     "output_type": "execute_result"
    }
   ],
   "source": [
    "\n",
    "styler = df_final.style.set_caption('ZIP Codes with the Maximum Annual Average ZHVI Values from 2000 to 2022').set_table_styles([{\n",
    "    'selector': 'caption',\n",
    "    'props': [\n",
    "        ('color', 'red'),\n",
    "        ('font-size', '15px'),\n",
    "        ('font-style', 'italic'),\n",
    "        ('font-weight', 'bold'),\n",
    "        ('text-align', 'center')\n",
    "    ]\n",
    "}])\n",
    "\n",
    "styler"
   ]
  }
 ],
 "metadata": {
  "kernelspec": {
   "display_name": "Python 3.10.4",
   "language": "python",
   "name": "python3"
  },
  "language_info": {
   "codemirror_mode": {
    "name": "ipython",
    "version": 3
   },
   "file_extension": ".py",
   "mimetype": "text/x-python",
   "name": "python",
   "nbconvert_exporter": "python",
   "pygments_lexer": "ipython3",
   "version": "3.10.4"
  },
  "vscode": {
   "interpreter": {
    "hash": "818b455ffb7ddd4a4df2f53a1a6b79496b81a46a56e723772d0134360008da4a"
   }
  }
 },
 "nbformat": 4,
 "nbformat_minor": 5
}
